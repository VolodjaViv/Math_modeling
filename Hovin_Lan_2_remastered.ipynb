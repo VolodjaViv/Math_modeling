{
 "cells": [
  {
   "cell_type": "code",
   "execution_count": 1,
   "metadata": {},
   "outputs": [],
   "source": [
    "import random"
   ]
  },
  {
   "cell_type": "markdown",
   "metadata": {},
   "source": [
    "# Имитация простого случайного события"
   ]
  },
  {
   "cell_type": "code",
   "execution_count": 2,
   "metadata": {},
   "outputs": [],
   "source": [
    "N = 1000000"
   ]
  },
  {
   "cell_type": "code",
   "execution_count": 3,
   "metadata": {},
   "outputs": [],
   "source": [
    "def generate_numbers(n):\n",
    "    buff = []\n",
    "    for i in range(n):\n",
    "        buff.append(random.random())\n",
    "    return buff"
   ]
  },
  {
   "cell_type": "code",
   "execution_count": 4,
   "metadata": {},
   "outputs": [],
   "source": [
    "def simple_random_number(p):\n",
    "    counter = 0\n",
    "    x = generate_numbers(N)\n",
    "    for i in x:\n",
    "        if i < float(p):\n",
    "            counter += 1\n",
    "    print(counter / N)\n",
    "    print(counter > 0)"
   ]
  },
  {
   "cell_type": "code",
   "execution_count": 5,
   "metadata": {},
   "outputs": [
    {
     "name": "stdout",
     "output_type": "stream",
     "text": [
      "0.400166\n",
      "True\n"
     ]
    }
   ],
   "source": [
    "simple_random_number('0.4')"
   ]
  },
  {
   "cell_type": "markdown",
   "metadata": {},
   "source": [
    "# Имитация сложного события"
   ]
  },
  {
   "cell_type": "code",
   "execution_count": 6,
   "metadata": {},
   "outputs": [],
   "source": [
    "def compl_random_number(k):\n",
    "    counter = [0] * len(k)\n",
    "    for i in range(N):\n",
    "        xi = random.random()\n",
    "        for j in range(len(k)):\n",
    "            if xi < k[j]:\n",
    "                counter[j] += 1\n",
    "    p = [i / N for i in counter]\n",
    "    return p"
   ]
  },
  {
   "cell_type": "code",
   "execution_count": 7,
   "metadata": {},
   "outputs": [
    {
     "data": {
      "text/plain": [
       "[0.209816, 0.319736, 0.039633, 0.199781, 0.229931]"
      ]
     },
     "execution_count": 7,
     "metadata": {},
     "output_type": "execute_result"
    }
   ],
   "source": [
    "compl_random_number([0.21, 0.32, 0.04, 0.2, 0.23])"
   ]
  },
  {
   "cell_type": "markdown",
   "metadata": {},
   "source": [
    "# Имитация сложного события, состоящего из зависимых событий"
   ]
  },
  {
   "cell_type": "code",
   "execution_count": 8,
   "metadata": {},
   "outputs": [],
   "source": [
    "def dependent_random_number(pa, pba):\n",
    "    x1 = generate_numbers(100)\n",
    "    x2 = generate_numbers(100)\n",
    "    pab = float(pba) * float(pa)\n",
    "    print(pab)\n",
    "    pna = 1 - float(pa)\n",
    "    pbna = 1 - float(pba)\n",
    "    counter = [0] * 4\n",
    "    for i, j in zip(x1, x2):\n",
    "        if i < float(pa):\n",
    "            if j < float(pba):\n",
    "                counter[0] += 1\n",
    "            else:\n",
    "                counter[1] += 1\n",
    "        else:\n",
    "            if j < pbna:\n",
    "                counter[2] += 1\n",
    "            else:\n",
    "                counter[3] += 1\n",
    "    print(\"AB: \" + str(counter[0] / 100))\n",
    "    print(\"A!B: \" + str(counter[1] / 100))\n",
    "    print(\"!AB: \" + str(counter[2] / 100))\n",
    "    print(\"!A!B: \" + str(counter[3] / 100))"
   ]
  },
  {
   "cell_type": "code",
   "execution_count": 9,
   "metadata": {},
   "outputs": [
    {
     "name": "stdout",
     "output_type": "stream",
     "text": [
      "0.033\n",
      "AB: 0.06\n",
      "A!B: 0.04\n",
      "!AB: 0.58\n",
      "!A!B: 0.32\n"
     ]
    }
   ],
   "source": [
    "dependent_random_number(\"0.1\", \"0.33\")"
   ]
  },
  {
   "cell_type": "markdown",
   "metadata": {},
   "source": [
    "# Имитация событий, образующих полную группу"
   ]
  },
  {
   "cell_type": "code",
   "execution_count": 10,
   "metadata": {},
   "outputs": [],
   "source": [
    "def Full_Group(k):\n",
    "    X = [0]\n",
    "    for i in range(len(k)):\n",
    "        X.append(X[i] + k[i])\n",
    "    print(X)\n",
    "    buff = generate_numbers(N)\n",
    "    counter = [0] * (len(X) - 1)\n",
    "    for j in buff:\n",
    "        for i in range(len(X)):\n",
    "            if X[i] < j < X[i + 1]:\n",
    "                counter[i] += 1\n",
    "    for i in counter:\n",
    "        print(str(i / N))"
   ]
  },
  {
   "cell_type": "code",
   "execution_count": 11,
   "metadata": {},
   "outputs": [
    {
     "name": "stdout",
     "output_type": "stream",
     "text": [
      "[0, 0, 0.21, 0.53, 0.5700000000000001, 0.77, 1.0]\n",
      "0.0\n",
      "0.209396\n",
      "0.320924\n",
      "0.03982\n",
      "0.199854\n",
      "0.230006\n"
     ]
    }
   ],
   "source": [
    "Full_Group([0, 0.21, 0.32, 0.04, 0.2, 0.23])"
   ]
  },
  {
   "cell_type": "code",
   "execution_count": null,
   "metadata": {},
   "outputs": [],
   "source": []
  }
 ],
 "metadata": {
  "kernelspec": {
   "display_name": "Python 3",
   "language": "python",
   "name": "python3"
  },
  "language_info": {
   "codemirror_mode": {
    "name": "ipython",
    "version": 3
   },
   "file_extension": ".py",
   "mimetype": "text/x-python",
   "name": "python",
   "nbconvert_exporter": "python",
   "pygments_lexer": "ipython3",
   "version": "3.8.8"
  }
 },
 "nbformat": 4,
 "nbformat_minor": 4
}
