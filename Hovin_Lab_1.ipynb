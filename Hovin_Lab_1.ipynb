{
 "cells": [
  {
   "cell_type": "code",
   "execution_count": 22,
   "metadata": {
    "pycharm": {
     "name": "#%%\n"
    }
   },
   "outputs": [],
   "source": [
    "import matplotlib.pyplot as plt\n",
    "import math\n",
    "import random\n",
    "import numpy as np"
   ]
  },
  {
   "cell_type": "markdown",
   "metadata": {},
   "source": [
    "# Реализация тестируемых методов и проверок"
   ]
  },
  {
   "cell_type": "code",
   "execution_count": 23,
   "metadata": {
    "pycharm": {
     "name": "#%%\n"
    }
   },
   "outputs": [],
   "source": [
    "def mid_squares(start_number, n):\n",
    "    sum_sings = len(str(start_number))\n",
    "    BSV = []\n",
    "    BSV_limited = []\n",
    "    BSV_value = 0\n",
    "    temp_value = str(round(math.pow(start_number, 2)))\n",
    "    len_str = 0\n",
    "    for i in range(0, n - 1):\n",
    "        if(BSV_value):\n",
    "            temp_value = str(round(math.pow(BSV_value, 2)))\n",
    "        while 1:\n",
    "            len_str = len(temp_value)\n",
    "            if len_str != 2 * sum_sings:\n",
    "                temp_value = \"0\" + temp_value\n",
    "            else:\n",
    "                break\n",
    "        start_str = round((len_str - sum_sings) / 2)\n",
    "        end_str = round(start_str + sum_sings)\n",
    "        BSV_value = int(temp_value[start_str:end_str])\n",
    "        BSV.append(BSV_value)\n",
    "    for i in BSV:\n",
    "        BSV_limited.append(i / math.pow(10, len_str / 2))\n",
    "    return BSV_limited"
   ]
  },
  {
   "cell_type": "code",
   "execution_count": 24,
   "metadata": {
    "pycharm": {
     "name": "#%%\n"
    }
   },
   "outputs": [],
   "source": [
    "def multiplicative_congruent(m, k, A0):\n",
    "    T = m-1\n",
    "    A = []\n",
    "    z = []\n",
    "    A_value = k * A0 % m\n",
    "    for i in range(0, T - 1):\n",
    "        if(i):\n",
    "            A_value = k * A[i - 1] % m\n",
    "        z.append(A_value / m)\n",
    "        A.append(A_value)\n",
    "    return z"
   ]
  },
  {
   "cell_type": "code",
   "execution_count": 25,
   "metadata": {
    "pycharm": {
     "name": "#%%\n"
    }
   },
   "outputs": [],
   "source": [
    "def uniformity_testing(N, BSV, n):\n",
    "    number_hits = []\n",
    "    hit_rate = []\n",
    "    X = [i/N for i in range(N)]\n",
    "    for i in X:\n",
    "        sum_n = 0\n",
    "        for j in BSV:\n",
    "            if i <= j < i + 1:\n",
    "                sum_n += 1\n",
    "        number_hits.append(sum_n)\n",
    "    for i in number_hits:\n",
    "        hit_rate.append(i / n)\n",
    "    return X, hit_rate"
   ]
  },
  {
   "cell_type": "code",
   "execution_count": 26,
   "metadata": {
    "pycharm": {
     "name": "#%%\n"
    }
   },
   "outputs": [],
   "source": [
    "def independence_testing(BSV, s, n):\n",
    "    sum_bsv = 0\n",
    "    for i in range(n - s - 1):\n",
    "        sum_bsv += BSV[i] * BSV[i + s]\n",
    "    R = (12 / (n - s)) * sum_bsv - 3\n",
    "    return R"
   ]
  },
  {
   "cell_type": "markdown",
   "metadata": {},
   "source": [
    "# Независимость метода средних квадратов"
   ]
  },
  {
   "cell_type": "code",
   "execution_count": 27,
   "metadata": {
    "pycharm": {
     "name": "#%%\n"
    }
   },
   "outputs": [
    {
     "name": "stdout",
     "output_type": "stream",
     "text": [
      "0.11302623472200013\n"
     ]
    }
   ],
   "source": [
    "s = 5\n",
    "n = 1000 + s\n",
    "start_number = 19944\n",
    "BSV = mid_squares(start_number, n)\n",
    "R = independence_testing(BSV, s, n)\n",
    "print(R + 3)"
   ]
  },
  {
   "cell_type": "code",
   "execution_count": 28,
   "metadata": {
    "pycharm": {
     "name": "#%%\n"
    }
   },
   "outputs": [
    {
     "name": "stdout",
     "output_type": "stream",
     "text": [
      "0.011302623472199791\n"
     ]
    }
   ],
   "source": [
    "n = 10000 + s\n",
    "BSV = mid_squares(start_number, n)\n",
    "R = independence_testing(BSV, s, n)\n",
    "print(R + 3)"
   ]
  },
  {
   "cell_type": "code",
   "execution_count": 29,
   "metadata": {
    "pycharm": {
     "name": "#%%\n"
    }
   },
   "outputs": [
    {
     "name": "stdout",
     "output_type": "stream",
     "text": [
      "0.0011302623472198015\n"
     ]
    }
   ],
   "source": [
    "n = 100000 + s\n",
    "BSV = mid_squares(start_number, n)\n",
    "R = independence_testing(BSV, s, n)\n",
    "print(R + 3)"
   ]
  },
  {
   "cell_type": "markdown",
   "metadata": {},
   "source": [
    "# Равномерность метода средних квадратов"
   ]
  },
  {
   "cell_type": "code",
   "execution_count": 30,
   "metadata": {
    "pycharm": {
     "name": "#%%\n"
    }
   },
   "outputs": [
    {
     "data": {
      "text/plain": [
       "[<matplotlib.lines.Line2D at 0x1be1aab76a0>]"
      ]
     },
     "execution_count": 30,
     "metadata": {},
     "output_type": "execute_result"
    },
    {
     "data": {
      "image/png": "[encoded data removed]",
      "text/plain": [
       "<Figure size 432x288 with 1 Axes>"
      ]
     },
     "metadata": {
      "needs_background": "light"
     },
     "output_type": "display_data"
    }
   ],
   "source": [
    "X_N = 10\n",
    "n = 100\n",
    "start_number = 19987654\n",
    "BSV = mid_squares(start_number, n)\n",
    "X, hit_rate = uniformity_testing(X_N, BSV, n)\n",
    "plt.step(X, hit_rate)"
   ]
  },
  {
   "cell_type": "code",
   "execution_count": 31,
   "metadata": {
    "pycharm": {
     "name": "#%%\n"
    }
   },
   "outputs": [
    {
     "data": {
      "text/plain": [
       "[<matplotlib.lines.Line2D at 0x1be1ad58130>]"
      ]
     },
     "execution_count": 31,
     "metadata": {},
     "output_type": "execute_result"
    },
    {
     "data": {
      "image/png": "[encoded data removed]",
      "text/plain": [
       "<Figure size 432x288 with 1 Axes>"
      ]
     },
     "metadata": {
      "needs_background": "light"
     },
     "output_type": "display_data"
    }
   ],
   "source": [
    "n = 1000\n",
    "BSV = mid_squares(start_number, n)\n",
    "X, hit_rate = uniformity_testing(X_N, BSV, n)\n",
    "plt.step(X, hit_rate)"
   ]
  },
  {
   "cell_type": "code",
   "execution_count": 32,
   "metadata": {
    "pycharm": {
     "name": "#%%\n"
    }
   },
   "outputs": [
    {
     "data": {
      "text/plain": [
       "[<matplotlib.lines.Line2D at 0x1be1ab5edf0>]"
      ]
     },
     "execution_count": 32,
     "metadata": {},
     "output_type": "execute_result"
    },
    {
     "data": {
      "image/png": "[encoded data removed]",
      "text/plain": [
       "<Figure size 432x288 with 1 Axes>"
      ]
     },
     "metadata": {
      "needs_background": "light"
     },
     "output_type": "display_data"
    }
   ],
   "source": [
    "n = 10000\n",
    "BSV = mid_squares(start_number, n)\n",
    "X, hit_rate = uniformity_testing(X_N, BSV, n)\n",
    "plt.step(X, hit_rate)"
   ]
  },
  {
   "cell_type": "markdown",
   "metadata": {},
   "source": [
    "# Независимость метода мультикативного конгуэнтного"
   ]
  },
  {
   "cell_type": "code",
   "execution_count": 33,
   "metadata": {
    "pycharm": {
     "name": "#%%\n"
    }
   },
   "outputs": [
    {
     "name": "stdout",
     "output_type": "stream",
     "text": [
      "0.9767593288254428\n"
     ]
    }
   ],
   "source": [
    "s = 10\n",
    "n = 100 + s\n",
    "k= 7\n",
    "A0 = 54\n",
    "Z = multiplicative_congruent(n, k, A0)\n",
    "R = independence_testing(Z, s, n - 1)\n",
    "print(R)"
   ]
  },
  {
   "cell_type": "code",
   "execution_count": 34,
   "metadata": {
    "pycharm": {
     "name": "#%%\n"
    }
   },
   "outputs": [
    {
     "name": "stdout",
     "output_type": "stream",
     "text": [
      "0.19813808514915987\n"
     ]
    }
   ],
   "source": [
    "n = 1000 + s\n",
    "Z = multiplicative_congruent(n, k, A0)\n",
    "R = independence_testing(Z, s, n - 1)\n",
    "print(R)"
   ]
  },
  {
   "cell_type": "code",
   "execution_count": 35,
   "metadata": {
    "pycharm": {
     "name": "#%%\n"
    }
   },
   "outputs": [
    {
     "name": "stdout",
     "output_type": "stream",
     "text": [
      "0.03146107969305456\n"
     ]
    }
   ],
   "source": [
    "n = 10000000+s\n",
    "Z = multiplicative_congruent(n, k, A0)\n",
    "R = independence_testing(Z, s, n - 1)\n",
    "print(R)"
   ]
  },
  {
   "cell_type": "markdown",
   "metadata": {},
   "source": [
    "# Равномерность мультикативного конгуэнтного метода"
   ]
  },
  {
   "cell_type": "code",
   "execution_count": 36,
   "metadata": {
    "pycharm": {
     "name": "#%%\n"
    }
   },
   "outputs": [
    {
     "name": "stdout",
     "output_type": "stream",
     "text": [
      "[0.6923076923076923, 0.8461538461538461, 0.9230769230769231, 0.46153846153846156, 0.23076923076923078, 0.6153846153846154, 0.3076923076923077, 0.15384615384615385, 0.07692307692307693, 0.5384615384615384, 0.7692307692307693]\n"
     ]
    },
    {
     "data": {
      "text/plain": [
       "[<matplotlib.lines.Line2D at 0x1be1a8e6d90>]"
      ]
     },
     "execution_count": 36,
     "metadata": {},
     "output_type": "execute_result"
    },
    {
     "data": {
      "image/png": "[encoded data removed]",
      "text/plain": [
       "<Figure size 432x288 with 1 Axes>"
      ]
     },
     "metadata": {
      "needs_background": "light"
     },
     "output_type": "display_data"
    }
   ],
   "source": [
    "X_N = 10\n",
    "n = 13\n",
    "k= 7\n",
    "A0 = 5\n",
    "Z = multiplicative_congruent(n, k, A0)\n",
    "print(Z)\n",
    "X, hit_rate = uniformity_testing(X_N, Z, n)\n",
    "plt.step(X, hit_rate)"
   ]
  },
  {
   "cell_type": "code",
   "execution_count": 37,
   "metadata": {
    "pycharm": {
     "name": "#%%\n"
    }
   },
   "outputs": [
    {
     "data": {
      "text/plain": [
       "[<matplotlib.lines.Line2D at 0x1be1aa288b0>]"
      ]
     },
     "execution_count": 37,
     "metadata": {},
     "output_type": "execute_result"
    },
    {
     "data": {
      "image/png": "[encoded data removed]",
      "text/plain": [
       "<Figure size 432x288 with 1 Axes>"
      ]
     },
     "metadata": {
      "needs_background": "light"
     },
     "output_type": "display_data"
    }
   ],
   "source": [
    "n = 1300\n",
    "Z = multiplicative_congruent(n, k, A0)\n",
    "X, hit_rate = uniformity_testing(X_N, Z, n)\n",
    "plt.step(X, hit_rate)"
   ]
  },
  {
   "cell_type": "code",
   "execution_count": 38,
   "metadata": {
    "pycharm": {
     "name": "#%%\n"
    }
   },
   "outputs": [
    {
     "data": {
      "text/plain": [
       "[<matplotlib.lines.Line2D at 0x1be1aa64880>]"
      ]
     },
     "execution_count": 38,
     "metadata": {},
     "output_type": "execute_result"
    },
    {
     "data": {
      "image/png": "[encoded data removed]",
      "text/plain": [
       "<Figure size 432x288 with 1 Axes>"
      ]
     },
     "metadata": {
      "needs_background": "light"
     },
     "output_type": "display_data"
    }
   ],
   "source": [
    "n = 13000\n",
    "Z = multiplicative_congruent(n, k, A0)\n",
    "X, hit_rate = uniformity_testing(X_N, Z, n)\n",
    "plt.step(X, hit_rate)"
   ]
  },
  {
   "cell_type": "markdown",
   "metadata": {},
   "source": [
    "# Математическое ожидание и дисперсия"
   ]
  },
  {
   "cell_type": "code",
   "execution_count": 39,
   "metadata": {
    "pycharm": {
     "name": "#%%\n"
    }
   },
   "outputs": [],
   "source": [
    "def m_o(BSV):\n",
    "    sum_BSV = 0\n",
    "    for i in BSV:\n",
    "        sum_BSV += i\n",
    "    return sum_BSV / n"
   ]
  },
  {
   "cell_type": "code",
   "execution_count": 40,
   "metadata": {
    "pycharm": {
     "name": "#%%\n"
    }
   },
   "outputs": [],
   "source": [
    "def disp(BSV, mo):\n",
    "    sum_BSV = 0\n",
    "    for i in BSV:\n",
    "        sum_BSV += i * i\n",
    "    return sum_BSV / n - mo ** 2"
   ]
  },
  {
   "cell_type": "code",
   "execution_count": 41,
   "metadata": {
    "pycharm": {
     "name": "#%%\n"
    }
   },
   "outputs": [
    {
     "name": "stdout",
     "output_type": "stream",
     "text": [
      "0.4999003975599943\n"
     ]
    },
    {
     "data": {
      "text/plain": [
       "0.08212177767980541"
      ]
     },
     "execution_count": 41,
     "metadata": {},
     "output_type": "execute_result"
    }
   ],
   "source": [
    "n = 10000\n",
    "start_number = 1994312\n",
    "BSV = mid_squares(start_number, n)\n",
    "mo = m_o(BSV)\n",
    "print(mo)\n",
    "disp(BSV, mo)"
   ]
  },
  {
   "cell_type": "code",
   "execution_count": 42,
   "metadata": {
    "pycharm": {
     "name": "#%%\n"
    }
   },
   "outputs": [
    {
     "name": "stdout",
     "output_type": "stream",
     "text": [
      "0.4999615118386432\n"
     ]
    },
    {
     "data": {
      "text/plain": [
       "0.09483005515637827"
      ]
     },
     "execution_count": 42,
     "metadata": {},
     "output_type": "execute_result"
    }
   ],
   "source": [
    "X_N = 10\n",
    "n = 13001\n",
    "k= 7\n",
    "A0 = 5\n",
    "Z = multiplicative_congruent(n, k, A0)\n",
    "mo = m_o(Z)\n",
    "print(mo)\n",
    "disp(Z, mo)"
   ]
  },
  {
   "cell_type": "code",
   "execution_count": null,
   "metadata": {},
   "outputs": [],
   "source": []
  },
  {
   "cell_type": "code",
   "execution_count": null,
   "metadata": {},
   "outputs": [],
   "source": []
  },
  {
   "cell_type": "code",
   "execution_count": null,
   "metadata": {},
   "outputs": [],
   "source": []
  },
  {
   "cell_type": "code",
   "execution_count": null,
   "metadata": {},
   "outputs": [],
   "source": []
  },
  {
   "cell_type": "code",
   "execution_count": null,
   "metadata": {},
   "outputs": [],
   "source": []
  },
  {
   "cell_type": "code",
   "execution_count": null,
   "metadata": {},
   "outputs": [],
   "source": []
  }
 ],
 "metadata": {
  "kernelspec": {
   "display_name": "Python 3",
   "language": "python",
   "name": "python3"
  },
  "language_info": {
   "codemirror_mode": {
    "name": "ipython",
    "version": 3
   },
   "file_extension": ".py",
   "mimetype": "text/x-python",
   "name": "python",
   "nbconvert_exporter": "python",
   "pygments_lexer": "ipython3",
   "version": "3.8.8"
  }
 },
 "nbformat": 4,
 "nbformat_minor": 1
}
